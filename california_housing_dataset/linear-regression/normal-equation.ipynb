{
 "cells": [
  {
   "cell_type": "markdown",
   "metadata": {},
   "source": [
    "# Linear Regression using Normal Equation"
   ]
  },
  {
   "cell_type": "code",
   "execution_count": 20,
   "metadata": {},
   "outputs": [
    {
     "name": "stdout",
     "output_type": "stream",
     "text": [
      "Type of X_train:  <class 'numpy.ndarray'> Shape of X_train:  (16000, 9)\n"
     ]
    }
   ],
   "source": [
    "import numpy as np\n",
    "from sklearn import datasets, metrics\n",
    "from numpy.linalg import inv, pinv, LinAlgError\n",
    "\n",
    "X, y = datasets.fetch_california_housing(return_X_y=True)\n",
    "\n",
    "X_train_temp1 = X[:16000]\n",
    "X_train = np.zeros((X_train_temp1.shape[0], X_train_temp1.shape[1] + 1))\n",
    "X_train[:, 0] = np.ones((X_train_temp1.shape[0]))\n",
    "X_train[:, 1:] = X_train_temp1\n",
    "print(\"Type of X_train: \", type(X_train), \"Shape of X_train: \", X_train.shape)"
   ]
  },
  {
   "cell_type": "code",
   "execution_count": 21,
   "metadata": {},
   "outputs": [
    {
     "name": "stdout",
     "output_type": "stream",
     "text": [
      "Type of X_Test: <class 'numpy.ndarray'> Shape of X_test:  (4604, 9)\n"
     ]
    }
   ],
   "source": [
    "y_train = y[0:16000]\n",
    "X_test_temp1 = X[16000:20604]\n",
    "X_test = np.zeros((X_test_temp1.shape[0], X_test_temp1.shape[1] + 1))\n",
    "X_test[:, 0] = np.ones((X_test_temp1.shape[0]))\n",
    "X_test[:, 1:] = X_test_temp1\n",
    "print(\"Type of X_Test:\", type(X_test), \"Shape of X_test: \", X_test.shape)\n",
    "\n",
    "y_test = y[16000:20604]"
   ]
  },
  {
   "cell_type": "code",
   "execution_count": 22,
   "metadata": {},
   "outputs": [
    {
     "name": "stdout",
     "output_type": "stream",
     "text": [
      "X_train:  (16000, 9)\n",
      "y_train:  (16000,)\n",
      "X_test:  (4604, 9)\n",
      "y_test:  (4604,)\n",
      "theta:  (9,)\n",
      "predictions:  (4604,)\n",
      "MAE:  0.5204256527684706\n",
      "MSE:  0.49888497645004576\n"
     ]
    }
   ],
   "source": [
    "theta = np.zeros(X_train.shape[1])\n",
    "\n",
    "try:\n",
    "    XTXi = inv(np.dot(X_train.T, X_train))\n",
    "except LinAlgError:\n",
    "    XTXi = pinv(np.dot(X_train.T, X_train))\n",
    "\n",
    "XTy = np.dot(X_train.T, y_train)\n",
    "\n",
    "theta = np.dot(XTXi, XTy)\n",
    "\n",
    "print(\"X_train: \", X_train.shape)\n",
    "print(\"y_train: \", y_train.shape)\n",
    "\n",
    "print(\"X_test: \", X_test.shape)\n",
    "print(\"y_test: \", y_test.shape)\n",
    "\n",
    "print(\"theta: \", theta.shape)\n",
    "\n",
    "predictions = np.dot(theta, X_test.T)\n",
    "print(\"predictions: \", predictions.shape)\n",
    "\n",
    "print(\"MAE: \", metrics.mean_absolute_error(y_true = y_test, y_pred = predictions))\n",
    "print(\"MSE: \", metrics.mean_squared_error(y_true = y_test, y_pred = predictions))"
   ]
  }
 ],
 "metadata": {
  "kernelspec": {
   "display_name": "Python 3",
   "language": "python",
   "name": "python3"
  },
  "language_info": {
   "codemirror_mode": {
    "name": "ipython",
    "version": 3
   },
   "file_extension": ".py",
   "mimetype": "text/x-python",
   "name": "python",
   "nbconvert_exporter": "python",
   "pygments_lexer": "ipython3",
   "version": "3.11.4"
  },
  "orig_nbformat": 4
 },
 "nbformat": 4,
 "nbformat_minor": 2
}
