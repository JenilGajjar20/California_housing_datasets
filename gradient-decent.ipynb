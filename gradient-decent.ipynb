{
 "cells": [
  {
   "cell_type": "markdown",
   "metadata": {},
   "source": [
    "# Linear Regression using Gradient Decent Algorithm"
   ]
  },
  {
   "cell_type": "code",
   "execution_count": 51,
   "metadata": {},
   "outputs": [
    {
     "name": "stdout",
     "output_type": "stream",
     "text": [
      "Type of X_train:  <class 'numpy.ndarray'> Shape of X_train:  (16000, 9)\n"
     ]
    }
   ],
   "source": [
    "import numpy as np\n",
    "from sklearn import datasets, metrics\n",
    "from sklearn.preprocessing import StandardScaler\n",
    "\n",
    "X, y = datasets.fetch_california_housing(return_X_y=True)\n",
    "\n",
    "X_train_temp1 = X[0:16000, :]\n",
    "X_train = np.zeros((X_train_temp1.shape[0], X_train_temp1.shape[1] + 1))\n",
    "X_train[:, 0] = np.ones((X_train_temp1.shape[0]))\n",
    "X_train[:, 1:] = X_train_temp1\n",
    "print(\"Type of X_train: \", type(X_train), \"Shape of X_train: \", X_train.shape)"
   ]
  },
  {
   "cell_type": "code",
   "execution_count": 52,
   "metadata": {},
   "outputs": [
    {
     "name": "stdout",
     "output_type": "stream",
     "text": [
      "Type of X_test:  <class 'numpy.ndarray'> Shape of X_test:  (4604, 9)\n"
     ]
    }
   ],
   "source": [
    "y_train = y[0:16000]\n",
    "X_test_temp1 = X[16000:20604, :]\n",
    "X_test = np.zeros((X_test_temp1.shape[0], X_test_temp1.shape[1] + 1))\n",
    "X_test[:, 0] = np.ones((X_test_temp1.shape[0]))\n",
    "X_test[:, 1:] = X_test_temp1\n",
    "print(\"Type of X_test: \", type(X_test), \"Shape of X_test: \", X_test.shape)"
   ]
  },
  {
   "cell_type": "code",
   "execution_count": 53,
   "metadata": {},
   "outputs": [
    {
     "name": "stdout",
     "output_type": "stream",
     "text": [
      "Type of theta:  <class 'numpy.ndarray'> Shape of theta:  (9,)\n"
     ]
    }
   ],
   "source": [
    "y_test = y[16000:20604]\n",
    "\n",
    "scalar = StandardScaler()\n",
    "scalar.fit(X_train[:, 1:])\n",
    "\n",
    "X_train[:, 1:] = scalar.transform(X_train[:, 1:])\n",
    "X_test[:, 1:] = scalar.transform(X_test[:, 1:])\n",
    "\n",
    "theta = np.random.uniform(0, 1, size = (X_train.shape[1]))\n",
    "print(\"Type of theta: \", type(theta), \"Shape of theta: \", theta.shape)"
   ]
  },
  {
   "cell_type": "code",
   "execution_count": 54,
   "metadata": {},
   "outputs": [
    {
     "name": "stdout",
     "output_type": "stream",
     "text": [
      "Shape of theta:  (9,)\n",
      "MAE:  0.5825368710295348\n",
      "MSE:  0.6421915148455236\n"
     ]
    }
   ],
   "source": [
    "n_iterations = 1000\n",
    "alpha = 0.01\n",
    "m = X_train.shape[0]\n",
    "n = X_train.shape[1]\n",
    "\n",
    "for i in range(n_iterations):\n",
    "    update = np.zeros(X_train.shape[1])\n",
    "    y_pred = np.dot(X_train, theta)\n",
    "    error = y_pred - y_train\n",
    "    for j in range(n):\n",
    "        update[j] = np.sum(error * (X_train.T)[j])\n",
    "    theta = theta - (1/m)*(alpha)*update\n",
    "    \n",
    "print(\"Shape of theta: \", theta.shape)\n",
    "\n",
    "predictions = np.dot(X_test, theta)\n",
    "\n",
    "print(\"MAE: \", metrics.mean_absolute_error(y_true = y_test, y_pred = predictions))\n",
    "print(\"MSE: \", metrics.mean_squared_error(y_true = y_test, y_pred = predictions))"
   ]
  }
 ],
 "metadata": {
  "kernelspec": {
   "display_name": "Python 3",
   "language": "python",
   "name": "python3"
  },
  "language_info": {
   "codemirror_mode": {
    "name": "ipython",
    "version": 3
   },
   "file_extension": ".py",
   "mimetype": "text/x-python",
   "name": "python",
   "nbconvert_exporter": "python",
   "pygments_lexer": "ipython3",
   "version": "3.11.4"
  },
  "orig_nbformat": 4
 },
 "nbformat": 4,
 "nbformat_minor": 2
}
