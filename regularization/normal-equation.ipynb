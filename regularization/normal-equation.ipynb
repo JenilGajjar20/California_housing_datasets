{
 "cells": [
  {
   "cell_type": "markdown",
   "metadata": {},
   "source": [
    "# Regularization using Normal Equation"
   ]
  },
  {
   "cell_type": "code",
   "execution_count": 1,
   "metadata": {},
   "outputs": [
    {
     "name": "stdout",
     "output_type": "stream",
     "text": [
      "Type of X_train:  <class 'numpy.ndarray'> Shape of X_train:  (16000, 9)\n"
     ]
    }
   ],
   "source": [
    "import numpy as np\n",
    "from sklearn import datasets, metrics\n",
    "from numpy.linalg import inv, pinv, LinAlgError\n",
    "\n",
    "X, y = datasets.fetch_california_housing(return_X_y = True)\n",
    "\n",
    "X_train_temp1 = X[:16000]\n",
    "X_train = np.zeros((X_train_temp1.shape[0], X_train_temp1.shape[1] + 1))\n",
    "X_train[:, 0] = np.ones((X_train_temp1.shape[0]))\n",
    "X_train[:, 1:] = X_train_temp1\n",
    "print(\"Type of X_train: \", type(X_train), \"Shape of X_train: \", X_train.shape)\n",
    "\n",
    "y_train = y[0:16000]"
   ]
  },
  {
   "cell_type": "code",
   "execution_count": 2,
   "metadata": {},
   "outputs": [
    {
     "name": "stdout",
     "output_type": "stream",
     "text": [
      "Type of X_test:  <class 'numpy.ndarray'> Shape of X_test:  (4604, 9)\n"
     ]
    }
   ],
   "source": [
    "X_test_temp1 = X[16000:20604]\n",
    "X_test = np.zeros((X_test_temp1.shape[0], X_test_temp1.shape[1] + 1))\n",
    "X_test[:, 0] = np.ones((X_test_temp1.shape[0]))\n",
    "X_test[:, 1:] = X_test_temp1\n",
    "print(\"Type of X_test: \", type(X_test), \"Shape of X_test: \", X_test.shape)\n",
    "\n",
    "y_test = y[16000:20604]"
   ]
  },
  {
   "cell_type": "code",
   "execution_count": 3,
   "metadata": {},
   "outputs": [
    {
     "name": "stdout",
     "output_type": "stream",
     "text": [
      "predictions:  (4604,)\n",
      "MAE:  0.520797965791187\n",
      "MSE:  0.5071628932183077\n"
     ]
    }
   ],
   "source": [
    "theta = np.zeros(X_train.shape[1])\n",
    "\n",
    "lambda_reg = 0.1  ## Regularization constant\n",
    "\n",
    "XTX = np.dot(X_train.T, X_train)\n",
    "regularizationTerm = lambda_reg * np.eye(XTX.shape[0])\n",
    "\n",
    "try:\n",
    "    XTXLi = inv(XTX + regularizationTerm)\n",
    "except LinAlgError:\n",
    "    XTXLi = pinv(XTX + regularizationTerm)\n",
    "\n",
    "XTy = np.dot(X_train.T, y_train)\n",
    "\n",
    "theta = np.dot(XTXLi, XTy)\n",
    "\n",
    "predictions = np.dot(X_test, theta)\n",
    "print(\"predictions: \", predictions.shape)\n",
    "\n",
    "print(\"MAE: \", metrics.mean_absolute_error(y_true=y_test,y_pred=predictions))\n",
    "print(\"MSE: \", metrics.mean_squared_error(y_true=y_test,y_pred=predictions))\n"
   ]
  }
 ],
 "metadata": {
  "kernelspec": {
   "display_name": "Python 3",
   "language": "python",
   "name": "python3"
  },
  "language_info": {
   "codemirror_mode": {
    "name": "ipython",
    "version": 3
   },
   "file_extension": ".py",
   "mimetype": "text/x-python",
   "name": "python",
   "nbconvert_exporter": "python",
   "pygments_lexer": "ipython3",
   "version": "3.11.4"
  },
  "orig_nbformat": 4
 },
 "nbformat": 4,
 "nbformat_minor": 2
}
