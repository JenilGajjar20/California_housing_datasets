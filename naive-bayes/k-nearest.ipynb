{
 "cells": [
  {
   "cell_type": "markdown",
   "metadata": {},
   "source": [
    "# Naive Bayes Using K-Nearest Neighbor"
   ]
  },
  {
   "cell_type": "markdown",
   "metadata": {},
   "source": [
    "### Importing necessary libraries\n",
    "\n",
    "- scikit-learn for datasets, model selection\n",
    "- KNeighborsClassifier for KNN classification\n",
    "- metrics for model evaluation."
   ]
  },
  {
   "cell_type": "code",
   "execution_count": 1,
   "metadata": {},
   "outputs": [],
   "source": [
    "# import numpy as np\n",
    "from sklearn import datasets\n",
    "from sklearn.model_selection import train_test_split\n",
    "from sklearn.neighbors import KNeighborsClassifier\n",
    "from sklearn.metrics import confusion_matrix, accuracy_score"
   ]
  },
  {
   "cell_type": "markdown",
   "metadata": {},
   "source": [
    "### Data Loading and Splitting:\n",
    "\n",
    "- Load the Iris dataset using **datasets.load_iris(return_X_y=True)**. The data is split into features (**X**) and target values (**y**).\n",
    "- Split the data into training and testing sets using **train_test_split**. It assigns 80% of the data for training (**X_train**, **y_train**) and 20% for testing (**X_test**, **y_test**). A random state is set for reproducibility, and **stratify** ensures that the class distribution is preserved in the split."
   ]
  },
  {
   "cell_type": "code",
   "execution_count": 3,
   "metadata": {},
   "outputs": [
    {
     "name": "stdout",
     "output_type": "stream",
     "text": [
      "(120, 4) (30, 4) (120,) (30,)\n"
     ]
    }
   ],
   "source": [
    "X, y = datasets.load_iris(return_X_y = True)\n",
    "\n",
    "X_train, X_test, y_train, y_test = train_test_split(X, y, test_size=0.2, random_state=50, stratify=y)\n",
    "print(X_train.shape, X_test.shape, y_train.shape, y_test.shape)"
   ]
  },
  {
   "cell_type": "markdown",
   "metadata": {},
   "source": [
    "### KNN Classifier:\n",
    "\n",
    "- Initialize a KNeighborsClassifier (**knn**) with the following settings:\n",
    "    - **n_neighbors=11**: The number of neighbors to consider in the classification. In this case, it uses 11 nearest neighbors.\n",
    "    - **weights='distance'**: This means that the contribution of the neighbors to the classification is based on their distance. Closer neighbors have a greater influence.\n",
    "\n",
    "### Model Training:\n",
    "\n",
    "- Fit the KNN classifier on the training data (**X_train**, **y_train**) using **knn.fit**.\n",
    "\n",
    "### Model Evaluation:\n",
    "\n",
    "- Use the trained KNN model to make predictions on the test set (**X_test**) and store the predictions in **predKnn**.\n",
    "- Calculate and print the accuracy score of the model using **accuracy_score** from scikit-learn. The accuracy score measures the percentage of correctly classified instances.\n",
    "- Calculate and print the confusion matrix using **confusion_matrix** from scikit-learn. The confusion matrix provides a breakdown of true positives, true negatives, false positives, and false negatives, allowing a detailed analysis of the model's performance."
   ]
  },
  {
   "cell_type": "code",
   "execution_count": 4,
   "metadata": {},
   "outputs": [
    {
     "name": "stdout",
     "output_type": "stream",
     "text": [
      "0.9666666666666667\n",
      "[[10  0  0]\n",
      " [ 0  9  1]\n",
      " [ 0  0 10]]\n"
     ]
    }
   ],
   "source": [
    "knn = KNeighborsClassifier(n_neighbors=11, weights='distance')\n",
    "knn.fit(X_train, y_train)\n",
    "\n",
    "predKnn = knn.predict(X_test)\n",
    "print(accuracy_score(y_test, predKnn))\n",
    "print(confusion_matrix(y_test, predKnn))"
   ]
  }
 ],
 "metadata": {
  "kernelspec": {
   "display_name": "Python 3",
   "language": "python",
   "name": "python3"
  },
  "language_info": {
   "codemirror_mode": {
    "name": "ipython",
    "version": 3
   },
   "file_extension": ".py",
   "mimetype": "text/x-python",
   "name": "python",
   "nbconvert_exporter": "python",
   "pygments_lexer": "ipython3",
   "version": "3.11.4"
  }
 },
 "nbformat": 4,
 "nbformat_minor": 2
}
