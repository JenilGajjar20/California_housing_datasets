{
  "nbformat": 4,
  "nbformat_minor": 0,
  "metadata": {
    "colab": {
      "provenance": [],
      "authorship_tag": "ABX9TyOaNUxEaLxG4bSBJAyDxiM3",
      "include_colab_link": true
    },
    "kernelspec": {
      "name": "python3",
      "display_name": "Python 3"
    },
    "language_info": {
      "name": "python"
    }
  },
  "cells": [
    {
      "cell_type": "markdown",
      "metadata": {
        "id": "view-in-github",
        "colab_type": "text"
      },
      "source": [
        "<a href=\"https://colab.research.google.com/github/JenilGajjar20/California_housing_datasets/blob/master/california_housing.ipynb\" target=\"_parent\"><img src=\"https://colab.research.google.com/assets/colab-badge.svg\" alt=\"Open In Colab\"/></a>"
      ]
    },
    {
      "cell_type": "markdown",
      "source": [
        "# **Program 1**"
      ],
      "metadata": {
        "id": "tShD8LC2_RUI"
      }
    },
    {
      "cell_type": "code",
      "execution_count": 53,
      "metadata": {
        "colab": {
          "base_uri": "https://localhost:8080/"
        },
        "id": "zAqurpSaimlw",
        "outputId": "8d062c7b-8456-4b4d-e5b2-ef54725cc158"
      },
      "outputs": [
        {
          "output_type": "stream",
          "name": "stdout",
          "text": [
            "Type of X_train: <class 'numpy.ndarray'> Shape of X_train: (16000, 9)\n",
            "Type of X_test: <class 'numpy.ndarray'> Shape of X_test: (4604, 9)\n"
          ]
        }
      ],
      "source": [
        "import numpy as np\n",
        "from sklearn import datasets, metrics\n",
        "from sklearn.preprocessing import StandardScaler\n",
        "\n",
        "X, y = datasets.fetch_california_housing(return_X_y = True)\n",
        "X_train_temp1 = X[0:16000,:]\n",
        "X_train = np.zeros((X_train_temp1.shape[0], X_train_temp1.shape[1] + 1))\n",
        "X_train[:,0] = np.ones((X_train_temp1.shape[0]))\n",
        "X_train[:,1:] = X_train_temp1\n",
        "print(\"Type of X_train:\", type(X_train), \"Shape of X_train:\", X_train.shape)\n",
        "\n",
        "y_train = y[0:16000]\n",
        "X_test_temp1 = X[16000:20604,:]\n",
        "X_test = np.zeros((X_test_temp1.shape[0], X_test_temp1.shape[1] + 1))\n",
        "X_test[:,0] = np.ones((X_test_temp1.shape[0]))\n",
        "X_test[:,1:] = X_test_temp1\n",
        "print(\"Type of X_test:\", type(X_test), \"Shape of X_test:\", X_test.shape)"
      ]
    },
    {
      "cell_type": "code",
      "source": [
        "y_test = y[16000:20604]\n",
        "scaler = StandardScaler()\n",
        "scaler.fit(X_train[:,1:])\n",
        "X_train[:,1:] = scaler.transform(X_train[:,1:])\n",
        "X_test[:,1:] = scaler.transform(X_test[:,1:])\n",
        "\n",
        "theta = np.random.uniform(0,1,size = (X_train.shape[1]))\n",
        "print(\"Type of theta:\", type(theta), \"Shape of Theta:\", theta.shape)"
      ],
      "metadata": {
        "colab": {
          "base_uri": "https://localhost:8080/"
        },
        "id": "JRMeJ1wu-LrU",
        "outputId": "69702c52-e8ca-4380-db22-429a99af8ae2"
      },
      "execution_count": 54,
      "outputs": [
        {
          "output_type": "stream",
          "name": "stdout",
          "text": [
            "Type of theta: <class 'numpy.ndarray'> Shape of Theta: (9,)\n"
          ]
        }
      ]
    },
    {
      "cell_type": "code",
      "source": [
        "niterations = 1000\n",
        "alpha = 0.01\n",
        "m=X_train.shape[0]\n",
        "n=X_train.shape[1]\n",
        "\n",
        "for i in range(niterations):\n",
        "  update=np.zeros(X_train.shape[1])\n",
        "  ypred=np.dot(X_train,theta)\n",
        "  error=ypred - y_train\n",
        "  for j in range(n):\n",
        "    update[j]=np.sum(error*(X_train.T)[j])\n",
        "  theta = theta - (1/m)*(alpha)*update\n",
        "\n",
        "print(\"Theta Shape:\", theta.shape)\n",
        "\n",
        "predictions=np.dot(X_test, theta)\n",
        "\n",
        "print(\"MAE:\", metrics.mean_absolute_error(y_true = y_test, y_pred = predictions))\n",
        "print(\"MSE:\", metrics.mean_squared_error(y_true = y_test, y_pred = predictions))"
      ],
      "metadata": {
        "colab": {
          "base_uri": "https://localhost:8080/"
        },
        "id": "ze08eWkk-OgZ",
        "outputId": "1fd8804b-b179-4cdb-a90c-26ecba58d32a"
      },
      "execution_count": 55,
      "outputs": [
        {
          "output_type": "stream",
          "name": "stdout",
          "text": [
            "Theta Shape: (9,)\n",
            "MAE: 0.5988248851572274\n",
            "MSE: 0.675272655275997\n"
          ]
        }
      ]
    },
    {
      "cell_type": "markdown",
      "source": [
        "# **Program 2**"
      ],
      "metadata": {
        "id": "6yX2ounY_GR9"
      }
    },
    {
      "cell_type": "code",
      "source": [
        "import numpy as np\n",
        "from sklearn import datasets, metrics\n",
        "from numpy.linalg import inv, pinv, LinAlgError\n",
        "\n",
        "X, y = datasets.fetch_california_housing(return_X_y = True)\n",
        "\n",
        "X_train_temp1 = X[:16000]\n",
        "X_train = np.zeros((X_train_temp1.shape[0], X_train_temp1.shape[1] + 1))\n",
        "X_train[:,0] = np.ones((X_train_temp1.shape[0]))\n",
        "X_train[:,1:] = X_train_temp1\n",
        "print(\"Type of X_train:\", type(X_train), \"Shape of X_train:\", X_train.shape)"
      ],
      "metadata": {
        "colab": {
          "base_uri": "https://localhost:8080/"
        },
        "id": "JX708w6OwlVB",
        "outputId": "1862b2f6-1c4e-41df-9f8a-1eaee40e9ceb"
      },
      "execution_count": 56,
      "outputs": [
        {
          "output_type": "stream",
          "name": "stdout",
          "text": [
            "Type of X_train: <class 'numpy.ndarray'> Shape of X_train: (16000, 9)\n"
          ]
        }
      ]
    },
    {
      "cell_type": "code",
      "source": [
        "y_train = y[0:16000]\n",
        "X_test_temp1 = X[16000:20604]\n",
        "X_test = np.zeros((X_test_temp1.shape[0], X_test_temp1.shape[1] + 1))\n",
        "X_test[:,0] = np.ones((X_test_temp1.shape[0]))\n",
        "X_test[:,1:] = X_test_temp1\n",
        "print(\"Type of X_test:\", type(X_test), \"Shape of X_test:\", X_test.shape)\n",
        "\n",
        "y_test = y[16000:20604]"
      ],
      "metadata": {
        "colab": {
          "base_uri": "https://localhost:8080/"
        },
        "id": "FQQf7Sw05UYJ",
        "outputId": "fce3603e-82f6-450a-8720-270ab3a03dba"
      },
      "execution_count": 71,
      "outputs": [
        {
          "output_type": "stream",
          "name": "stdout",
          "text": [
            "Type of X_test: <class 'numpy.ndarray'> Shape of X_test: (4604, 9)\n"
          ]
        }
      ]
    },
    {
      "cell_type": "code",
      "source": [
        "theta = np.zeros(X_train.shape[1])\n",
        "\n",
        "try:\n",
        "  XTXi = inv(np.dot(X_train.T, X_train))\n",
        "except LinAlgError:\n",
        "  XTXi = pinv(np.dot(X_train.T, X_train))\n",
        "\n",
        "XTy = np.dot(X_train.T, y_train)\n",
        "\n",
        "theta = np.dot(XTXi, XTy)\n",
        "\n",
        "print(\"X_train: \", X_train.shape)\n",
        "print(\"y_train: \", y_train.shape)\n",
        "\n",
        "print(\"X_test: \", X_test.shape)\n",
        "print(\"y_test: \", y_test.shape)\n",
        "\n",
        "print(\"theta: \", theta.shape)\n",
        "\n",
        "predictions = np.dot(theta, X_test.T)\n",
        "\n",
        "print(\"Predictions: \", predictions.shape)\n",
        "\n",
        "print(\"MAE: \", metrics.mean_absolute_error(y_true = y_test, y_pred = predictions))\n",
        "print(\"MSE: \", metrics.mean_squared_error(y_true = y_test, y_pred = predictions))"
      ],
      "metadata": {
        "colab": {
          "base_uri": "https://localhost:8080/"
        },
        "id": "r67DTZch5XNU",
        "outputId": "73dbc922-3818-4a20-f032-484e60b52575"
      },
      "execution_count": 72,
      "outputs": [
        {
          "output_type": "stream",
          "name": "stdout",
          "text": [
            "X_train:  (16000, 9)\n",
            "y_train:  (16000,)\n",
            "X_test:  (4604, 9)\n",
            "y_test:  (4604,)\n",
            "theta:  (9,)\n",
            "Predictions:  (4604,)\n",
            "MAE:  0.5204256527713369\n",
            "MSE:  0.4988849764476012\n"
          ]
        }
      ]
    }
  ]
}