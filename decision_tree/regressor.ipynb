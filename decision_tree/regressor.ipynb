{
 "cells": [
  {
   "cell_type": "markdown",
   "metadata": {},
   "source": [
    "# Decision Tree Regressor"
   ]
  },
  {
   "cell_type": "markdown",
   "metadata": {},
   "source": [
    "### Importing Libraries\n",
    "\n",
    "- **datasets**: Import functions to load datasets, including the Iris and California housing datasets.\n",
    "- **StandardScaler**: Import a class for standardization of dataset features.\n",
    "- **train_test_split**: Import a function to split the dataset into training and testing sets.\n",
    "- **DecisionTreeRegressor**: Import the decision tree regressor from scikit-learn.\n",
    "- **mean_absolute_error** and **mean_squared_error**: Import evaluation metrics for regression tasks."
   ]
  },
  {
   "cell_type": "code",
   "execution_count": 1,
   "metadata": {},
   "outputs": [],
   "source": [
    "from sklearn import datasets\n",
    "from sklearn.preprocessing import StandardScaler\n",
    "from sklearn.model_selection import train_test_split\n",
    "from sklearn.tree import DecisionTreeRegressor\n",
    "from sklearn.metrics import mean_absolute_error, mean_squared_error"
   ]
  },
  {
   "cell_type": "markdown",
   "metadata": {},
   "source": [
    "### Loading Datasets\n",
    "\n",
    "- **datasets.load_iris()**: Load the Iris dataset for a regression task. **x_c** contains the feature data, and **y_c** contains the target values.\n",
    "- **datasets.fetch_california_housing()**: Load the California housing dataset. **x_r** contains the feature data, and **y_r** contains the target values."
   ]
  },
  {
   "cell_type": "code",
   "execution_count": 2,
   "metadata": {},
   "outputs": [],
   "source": [
    "x_c, y_c = datasets.load_iris(return_X_y=True)\n",
    "x_r, y_r = datasets.fetch_california_housing(return_X_y=True)"
   ]
  },
  {
   "cell_type": "markdown",
   "metadata": {},
   "source": [
    "### Splitting the Datasets\n",
    "\n",
    "- Split the Iris dataset into training and testing sets with an 80-20 split. **x_c_train** and **y_c_train** represent the training data, and **x_c_test** and **y_c_test** represent the testing data."
   ]
  },
  {
   "cell_type": "code",
   "execution_count": 3,
   "metadata": {},
   "outputs": [],
   "source": [
    "x_c_train, x_c_test, y_c_train, y_c_test = train_test_split(x_c, y_c, test_size=0.2, random_state=50, stratify=y_c)"
   ]
  },
  {
   "cell_type": "markdown",
   "metadata": {},
   "source": [
    "### Standardizing the California Housing Dataset\n",
    "\n",
    "- Create a **StandardScaler** object (ss) to standardize the features in the California housing dataset.\n",
    "- Fit the scaler to the feature data (**x_r**) to compute the mean and standard deviation.\n",
    "- Transform (standardize) the feature data, replacing **x_r** with the standardized values."
   ]
  },
  {
   "cell_type": "code",
   "execution_count": 4,
   "metadata": {},
   "outputs": [],
   "source": [
    "ss = StandardScaler()\n",
    "ss.fit(x_r)\n",
    "\n",
    "x_r = ss.transform(x_r)"
   ]
  },
  {
   "cell_type": "markdown",
   "metadata": {},
   "source": [
    "### Splitting the Standardized California Housing Dataset\n",
    "\n",
    "- Split the standardized California housing dataset into training and testing sets with an 80-20 split. **x_r_train** and **y_r_train** represent the training data, and **x_r_test** and **y_r_test** represent the testing data."
   ]
  },
  {
   "cell_type": "code",
   "execution_count": 5,
   "metadata": {},
   "outputs": [],
   "source": [
    "x_r_train, x_r_test, y_r_train, y_r_test = train_test_split(x_r, y_r, test_size=0.2, random_state=50)"
   ]
  },
  {
   "cell_type": "markdown",
   "metadata": {},
   "source": [
    "### Decision Tree Regression\n",
    "\n",
    "- Create a decision tree regressor with the \"squared_error\" criterion and fit it to the training data.\n",
    "- The **reg_tree** object now represents the trained decision tree regression model.\n",
    "\n",
    "### Model Evaluation\n",
    "\n",
    "- Calculate and print the mean absolute error and mean squared error for the regression model on the test data."
   ]
  },
  {
   "cell_type": "code",
   "execution_count": 6,
   "metadata": {},
   "outputs": [
    {
     "name": "stdout",
     "output_type": "stream",
     "text": [
      "0.47019379118217053\n",
      "0.5451669863855862\n"
     ]
    }
   ],
   "source": [
    "reg_tree = DecisionTreeRegressor(criterion='squared_error')\n",
    "reg_tree.fit(x_r_train, y_r_train)\n",
    "\n",
    "print(mean_absolute_error(y_r_test, reg_tree.predict(x_r_test)))\n",
    "print(mean_squared_error(y_r_test, reg_tree.predict(x_r_test)))"
   ]
  }
 ],
 "metadata": {
  "kernelspec": {
   "display_name": "Python 3",
   "language": "python",
   "name": "python3"
  },
  "language_info": {
   "codemirror_mode": {
    "name": "ipython",
    "version": 3
   },
   "file_extension": ".py",
   "mimetype": "text/x-python",
   "name": "python",
   "nbconvert_exporter": "python",
   "pygments_lexer": "ipython3",
   "version": "3.11.4"
  }
 },
 "nbformat": 4,
 "nbformat_minor": 2
}
