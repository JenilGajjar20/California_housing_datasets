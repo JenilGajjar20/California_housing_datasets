{
 "cells": [
  {
   "cell_type": "markdown",
   "metadata": {},
   "source": [
    "# Support Vector Classifier with Grid Search"
   ]
  },
  {
   "cell_type": "markdown",
   "metadata": {},
   "source": [
    "## Importing Libraries\n",
    "\n",
    "- Import necessary libraries from scikit-learn, including datasets, model selection functions, and SVM classifiers."
   ]
  },
  {
   "cell_type": "code",
   "execution_count": 1,
   "metadata": {},
   "outputs": [],
   "source": [
    "from sklearn import datasets\n",
    "from sklearn.model_selection import train_test_split, GridSearchCV\n",
    "from sklearn.svm import LinearSVC, SVC, NuSVC\n",
    "from sklearn.metrics import confusion_matrix, accuracy_score"
   ]
  },
  {
   "cell_type": "markdown",
   "metadata": {},
   "source": [
    "- Load the Iris dataset using **datasets.load_iris(return_X_y=True)**, which returns both the **features (X)** and **target labels (y)**."
   ]
  },
  {
   "cell_type": "code",
   "execution_count": 2,
   "metadata": {},
   "outputs": [],
   "source": [
    "X, y = datasets.load_iris(return_X_y=True)"
   ]
  },
  {
   "cell_type": "markdown",
   "metadata": {},
   "source": [
    "- Split the data into training and testing sets using **train_test_split**. \n",
    "- It assigns 80% of the data for training (**X_train**, **y_train**) and 20% for testing (**X_test**, **y_test**). \n",
    "- The **stratify=y** argument ensures that the class distribution is preserved in the split."
   ]
  },
  {
   "cell_type": "code",
   "execution_count": 3,
   "metadata": {},
   "outputs": [],
   "source": [
    "X_train, X_test, y_train, y_test = train_test_split(X, y, test_size=0.2, random_state=56, stratify=y)"
   ]
  },
  {
   "cell_type": "markdown",
   "metadata": {},
   "source": [
    "## Linear Support Vector Classifier (LinearSVC)\n",
    "\n",
    "- Initialize a **LinearSVC** classifier with a maximum of 2000 iterations.\n",
    "- Fit the **LinearSVC** model on the training data (**X_train**, **y_train**).\n",
    "- Use the trained model to make predictions on the test data (**X_test**) and store the predictions in **pred_l_svc**.\n",
    "- Calculate and print the accuracy score and confusion matrix for the **LinearSVC** model."
   ]
  },
  {
   "cell_type": "code",
   "execution_count": 4,
   "metadata": {},
   "outputs": [
    {
     "name": "stdout",
     "output_type": "stream",
     "text": [
      "0.9\n",
      "[[10  0  0]\n",
      " [ 0  9  1]\n",
      " [ 0  2  8]]\n"
     ]
    },
    {
     "name": "stderr",
     "output_type": "stream",
     "text": [
      "c:\\Python311\\Lib\\site-packages\\sklearn\\svm\\_classes.py:32: FutureWarning: The default value of `dual` will change from `True` to `'auto'` in 1.5. Set the value of `dual` explicitly to suppress the warning.\n",
      "  warnings.warn(\n",
      "c:\\Python311\\Lib\\site-packages\\sklearn\\svm\\_base.py:1242: ConvergenceWarning: Liblinear failed to converge, increase the number of iterations.\n",
      "  warnings.warn(\n"
     ]
    }
   ],
   "source": [
    "l_svc = LinearSVC(max_iter=2000)\n",
    "l_svc.fit(X_train, y_train)\n",
    "\n",
    "pred_l_svc = l_svc.predict(X_test)\n",
    "print(accuracy_score(y_test, pred_l_svc))\n",
    "print(confusion_matrix(y_test, pred_l_svc))"
   ]
  },
  {
   "cell_type": "markdown",
   "metadata": {},
   "source": [
    "## Support Vector Classifier (SVC) with Grid Search\n",
    "\n",
    "- Initialize an **SVC** classifier.\n",
    "- Define a parameter grid (**param_grid**) to specify a range of **hyperparameters** to search over. This includes the kernel type ('poly', 'linear', 'rbf'), regularization parameter ('C'), polynomial degree ('degree'), and gamma ('gamma').\n",
    "- Create a GridSearchCV object (**g_svc**) with the SVC classifier and the parameter grid.\n",
    "- Fit the **GridSearchCV** model on the training data.\n",
    "- Use the best model found by grid search to make predictions on the test data and store the predictions in **pred_g_svc**.\n",
    "- Calculate and print the accuracy score and confusion matrix for the SVC model with the best **hyperparameters** found by grid search."
   ]
  },
  {
   "cell_type": "code",
   "execution_count": 5,
   "metadata": {},
   "outputs": [
    {
     "name": "stdout",
     "output_type": "stream",
     "text": [
      "0.9666666666666667\n",
      "[[10  0  0]\n",
      " [ 0 10  0]\n",
      " [ 0  1  9]]\n"
     ]
    }
   ],
   "source": [
    "svc = SVC()\n",
    "param_grid = {'kernel' : ['poly', 'linear', 'rbf'], 'C': [0.1, 1, 10, 100], 'degree': [2, 3, 4, 5], 'gamma': [0.001, 0.01, 0.1, 1]}\n",
    "g_svc = GridSearchCV(estimator=svc, param_grid=param_grid)\n",
    "g_svc.fit(X_train, y_train)\n",
    "\n",
    "pred_g_svc = g_svc.predict(X_test)\n",
    "print(accuracy_score(y_test, pred_g_svc))\n",
    "print(confusion_matrix(y_test, pred_g_svc))"
   ]
  },
  {
   "cell_type": "markdown",
   "metadata": {},
   "source": [
    "- Print the best **hyperparameters** using **g_svc.best_params_**"
   ]
  },
  {
   "cell_type": "code",
   "execution_count": 6,
   "metadata": {},
   "outputs": [
    {
     "data": {
      "text/plain": [
       "{'C': 1, 'degree': 2, 'gamma': 0.001, 'kernel': 'linear'}"
      ]
     },
     "execution_count": 6,
     "metadata": {},
     "output_type": "execute_result"
    }
   ],
   "source": [
    "g_svc.best_params_"
   ]
  },
  {
   "cell_type": "markdown",
   "metadata": {},
   "source": [
    "## Nu-Support Vector Classifier (NuSVC) with Grid Search:\n",
    "\n",
    "- Initialize a **NuSVC** classifier.\n",
    "- Define a parameter grid (**param_grids**) for **hyperparameter** tuning. It includes kernel type ('poly', 'linear', 'rbf'), nu value ('nu'), polynomial degree ('degree'), and gamma ('gamma').\n",
    "- Create a GridSearchCV object (**g_svc_nu**) with the NuSVC classifier and the parameter grid.\n",
    "- Fit the **GridSearchCV** model on the training data.\n",
    "- Use the best model found by grid search to make predictions on the test data and store the predictions in **pred_g_svc_nu**.\n",
    "- Calculate and print the accuracy score and confusion matrix for the NuSVC model with the best **hyperparameters** found by grid search."
   ]
  },
  {
   "cell_type": "code",
   "execution_count": 7,
   "metadata": {},
   "outputs": [
    {
     "name": "stdout",
     "output_type": "stream",
     "text": [
      "0.9666666666666667\n",
      "[[10  0  0]\n",
      " [ 0 10  0]\n",
      " [ 0  1  9]]\n"
     ]
    }
   ],
   "source": [
    "n_svc = NuSVC()\n",
    "param_grids = {'kernel': ['poly', 'linear', 'rbf'], 'nu': [0.2, 0.3, 0.4, 0.5], 'degree': [1, 2, 3, 4, 5], 'gamma': [0.001, 0.01, 0.1, 1]}\n",
    "g_svc_nu = GridSearchCV(estimator=n_svc, param_grid=param_grids)\n",
    "g_svc_nu.fit(X_train, y_train)\n",
    "\n",
    "pred_g_svc_nu = g_svc_nu.predict(X_test)\n",
    "print(accuracy_score(y_test, pred_g_svc_nu))\n",
    "print(confusion_matrix(y_test, pred_g_svc_nu))"
   ]
  },
  {
   "cell_type": "markdown",
   "metadata": {},
   "source": [
    "- Print the best **hyperparameters** using **g_svc_nu.best_params_**."
   ]
  },
  {
   "cell_type": "code",
   "execution_count": 8,
   "metadata": {},
   "outputs": [
    {
     "data": {
      "text/plain": [
       "{'degree': 1, 'gamma': 0.001, 'kernel': 'linear', 'nu': 0.2}"
      ]
     },
     "execution_count": 8,
     "metadata": {},
     "output_type": "execute_result"
    }
   ],
   "source": [
    "g_svc_nu.best_params_"
   ]
  }
 ],
 "metadata": {
  "kernelspec": {
   "display_name": "Python 3",
   "language": "python",
   "name": "python3"
  },
  "language_info": {
   "codemirror_mode": {
    "name": "ipython",
    "version": 3
   },
   "file_extension": ".py",
   "mimetype": "text/x-python",
   "name": "python",
   "nbconvert_exporter": "python",
   "pygments_lexer": "ipython3",
   "version": "3.11.4"
  }
 },
 "nbformat": 4,
 "nbformat_minor": 2
}
