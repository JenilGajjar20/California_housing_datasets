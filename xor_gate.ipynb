{
 "cells": [
  {
   "cell_type": "code",
   "execution_count": 6,
   "metadata": {},
   "outputs": [
    {
     "name": "stdout",
     "output_type": "stream",
     "text": [
      "Predictions: [[0.03473067]\n",
      " [0.95769421]\n",
      " [0.95280785]\n",
      " [0.04805845]]\n"
     ]
    }
   ],
   "source": [
    "import numpy as np\n",
    "\n",
    "# Define the XOR gate input data and expected outputs\n",
    "X = np.array([[0, 0], [0, 1], [1, 0], [1, 1]], dtype=float)\n",
    "y = np.array([0, 1, 1, 0], dtype=float)\n",
    "\n",
    "# Define the architecture of the neural network\n",
    "input_size = 2\n",
    "hidden_size = 4\n",
    "output_size = 1\n",
    "\n",
    "# Initialize weights and biases for the neural network\n",
    "input_weights = np.random.uniform(-1, 1, (input_size, hidden_size))\n",
    "input_bias = np.zeros((1, hidden_size))\n",
    "output_weights = np.random.uniform(-1, 1, (hidden_size, output_size))\n",
    "output_bias = np.zeros((1, output_size))\n",
    "\n",
    "# Define the sigmoid activation function and its derivative\n",
    "def sigmoid(x):\n",
    "    return 1 / (1 + np.exp(-x))\n",
    "\n",
    "def sigmoid_derivative(x):\n",
    "    return x * (1 - x)\n",
    "\n",
    "# Set hyperparameters\n",
    "learning_rate = 0.1\n",
    "epochs = 10000\n",
    "\n",
    "# Training the neural network using backpropagation\n",
    "for epoch in range(epochs):\n",
    "    # Forward propagation\n",
    "    hidden_layer_input = np.dot(X, input_weights) + input_bias\n",
    "    hidden_layer_output = sigmoid(hidden_layer_input)\n",
    "    output_layer_input = np.dot(hidden_layer_output, output_weights) + output_bias\n",
    "    output_layer_output = sigmoid(output_layer_input)\n",
    "\n",
    "    # Calculate the error\n",
    "    error = y.reshape(-1, 1) - output_layer_output\n",
    "\n",
    "    # Backpropagation\n",
    "    d_output = error * sigmoid_derivative(output_layer_output)\n",
    "    error_hidden_layer = d_output.dot(output_weights.T)\n",
    "    d_hidden_layer = error_hidden_layer * sigmoid_derivative(hidden_layer_output)\n",
    "\n",
    "    # Update weights and biases\n",
    "    output_weights += hidden_layer_output.T.dot(d_output) * learning_rate\n",
    "    output_bias += np.sum(d_output, axis=0, keepdims=True) * learning_rate\n",
    "    input_weights += X.T.dot(d_hidden_layer) * learning_rate\n",
    "    input_bias += np.sum(d_hidden_layer, axis=0, keepdims=True) * learning_rate\n",
    "\n",
    "# Test the trained neural network\n",
    "hidden_layer_input = np.dot(X, input_weights) + input_bias\n",
    "hidden_layer_output = sigmoid(hidden_layer_input)\n",
    "output_layer_input = np.dot(hidden_layer_output, output_weights) + output_bias\n",
    "output_layer_output = sigmoid(output_layer_input)\n",
    "\n",
    "# Print the predictions\n",
    "print(\"Predictions:\", output_layer_output)"
   ]
  }
 ],
 "metadata": {
  "kernelspec": {
   "display_name": "Python 3",
   "language": "python",
   "name": "python3"
  },
  "language_info": {
   "codemirror_mode": {
    "name": "ipython",
    "version": 3
   },
   "file_extension": ".py",
   "mimetype": "text/x-python",
   "name": "python",
   "nbconvert_exporter": "python",
   "pygments_lexer": "ipython3",
   "version": "3.11.4"
  }
 },
 "nbformat": 4,
 "nbformat_minor": 2
}
