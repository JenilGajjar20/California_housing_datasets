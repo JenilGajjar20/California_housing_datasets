{
 "cells": [
  {
   "cell_type": "markdown",
   "metadata": {},
   "source": [
    "# Simple Neural Network model on the MNIST dataset\n",
    "\n",
    "- this code demonstrates how to create, train, and evaluate a neural network model for handwritten digit classification on the MNIST dataset using both the Sequential and custom model definitions. \n",
    "-  It also provides a visualization of the model's prediction for a sample test image."
   ]
  },
  {
   "cell_type": "markdown",
   "metadata": {},
   "source": [
    "### Loading the Data\n",
    "\n",
    "- The MNIST dataset is loaded using **tf.keras.datasets.mnist.load_data()**. \n",
    "- It consists of training and testing sets of grayscale images of handwritten digits (0 to 9)."
   ]
  },
  {
   "cell_type": "code",
   "execution_count": 1,
   "metadata": {},
   "outputs": [],
   "source": [
    "import tensorflow as tf\n",
    "import numpy as np\n",
    "import matplotlib.pyplot as plt\n",
    "\n",
    "(x_train, y_train), (x_test, y_test) = tf.keras.datasets.mnist.load_data()"
   ]
  },
  {
   "cell_type": "markdown",
   "metadata": {},
   "source": [
    "### Data Visualization:\n",
    "\n",
    "- The code prints the number of training and testing images and shows one of the images with its corresponding label."
   ]
  },
  {
   "cell_type": "code",
   "execution_count": 2,
   "metadata": {},
   "outputs": [
    {
     "name": "stdout",
     "output_type": "stream",
     "text": [
      "Number of train images :  60000\n",
      "Number of test images :  10000\n",
      "Shape of image :  (28, 28)\n"
     ]
    },
    {
     "data": {
      "image/png": "[encoded data removed]",
      "text/plain": [
       "<Figure size 640x480 with 1 Axes>"
      ]
     },
     "metadata": {},
     "output_type": "display_data"
    }
   ],
   "source": [
    "print(\"Number of train images : \", x_train.shape[0])\n",
    "print(\"Number of test images : \", x_test.shape[0])\n",
    "print(\"Shape of image : \", x_train.shape[1:])\n",
    "\n",
    "img_index = 10 # Image index, you can pick any number between 0 and 59,999\n",
    "label_index = y_train[img_index]  # y_train contains the labels, ranging from 0 to 9\n",
    "\n",
    "plt.title(\"Label = %d\"%label_index)\n",
    "plt.imshow(x_train[img_index])\n",
    "plt.show()"
   ]
  },
  {
   "cell_type": "markdown",
   "metadata": {},
   "source": [
    "### Data Preprocessing:\n",
    "\n",
    "- The pixel values of the images are scaled to the range [0, 1] by dividing by 255, converting them to **float32**.\n",
    "- The labels are one-hot encoded using **tf.keras.utils.to_categorical**."
   ]
  },
  {
   "cell_type": "code",
   "execution_count": 3,
   "metadata": {},
   "outputs": [],
   "source": [
    "# Scale images to the [0, 1] range\n",
    "x_train = x_train.astype(\"float32\") / 255\n",
    "x_test = x_test.astype(\"float32\") / 255 # visualize dataset\n",
    "\n",
    "# One-hot encode the labels\n",
    "y_train = tf.keras.utils.to_categorical(y_train, 10)\n",
    "y_test = tf.keras.utils.to_categorical(y_test, 10)"
   ]
  },
  {
   "cell_type": "markdown",
   "metadata": {},
   "source": [
    "### Model Definition (Sequential):\n",
    "\n",
    "- A neural network model is defined using the **Sequential** API from TensorFlow Keras.\n",
    "- It consists of:\n",
    "    - A **Flatten** layer, which transforms the 28x28 input images into a 1D vector.\n",
    "    - A **Dense** layer with 256 units and ReLU activation.\n",
    "    - A **Dropout** layer with a dropout rate of 0.5 to prevent overfitting.\n",
    "    - Another **Dense** layer with 10 units and a softmax activation function for multi-class classification."
   ]
  },
  {
   "cell_type": "code",
   "execution_count": 4,
   "metadata": {},
   "outputs": [],
   "source": [
    "# define model using Sequential class\n",
    "model = tf.keras.Sequential(\n",
    "    [\n",
    "        tf.keras.layers.Flatten(input_shape=(28,28,1)),\n",
    "        tf.keras.layers.Dense(256, activation='relu'),\n",
    "        tf.keras.layers.Dropout(0.5),\n",
    "        tf.keras.layers.Dense(10, activation='softmax')\n",
    "    ]\n",
    ")"
   ]
  },
  {
   "cell_type": "markdown",
   "metadata": {},
   "source": [
    "### Model Summary:\n",
    "\n",
    "- The summary of the model's architecture is printed, showing the layers, their types, and the number of parameters."
   ]
  },
  {
   "cell_type": "code",
   "execution_count": 5,
   "metadata": {},
   "outputs": [
    {
     "name": "stdout",
     "output_type": "stream",
     "text": [
      "Model: \"sequential\"\n",
      "_________________________________________________________________\n",
      " Layer (type)                Output Shape              Param #   \n",
      "=================================================================\n",
      " flatten (Flatten)           (None, 784)               0         \n",
      "                                                                 \n",
      " dense (Dense)               (None, 256)               200960    \n",
      "                                                                 \n",
      " dropout (Dropout)           (None, 256)               0         \n",
      "                                                                 \n",
      " dense_1 (Dense)             (None, 10)                2570      \n",
      "                                                                 \n",
      "=================================================================\n",
      "Total params: 203530 (795.04 KB)\n",
      "Trainable params: 203530 (795.04 KB)\n",
      "Non-trainable params: 0 (0.00 Byte)\n",
      "_________________________________________________________________\n"
     ]
    }
   ],
   "source": [
    "# Take a look at the model summary\n",
    "model.summary()"
   ]
  },
  {
   "cell_type": "markdown",
   "metadata": {},
   "source": [
    "### Custom Model Definition:\n",
    "\n",
    "- A custom model is defined using the subclassing approach with the **MnistModel** class.\n",
    "- It defines the same architecture as the Sequential model using the **super().__init__()** constructor and **tf.keras.layers**."
   ]
  },
  {
   "cell_type": "code",
   "execution_count": 6,
   "metadata": {},
   "outputs": [],
   "source": [
    "class MnistModel(tf.keras.Model):\n",
    "\n",
    "  def __init__(self):\n",
    "    super().__init__()\n",
    "    self.flatten = tf.keras.layers.Flatten(input_shape=(28,28,1))\n",
    "    self.dense1 = tf.keras.layers.Dense(256, activation=tf.nn.relu)\n",
    "    self.dense2 = tf.keras.layers.Dense(10, activation=tf.nn.softmax)\n",
    "\n",
    "  def call(self, inputs):\n",
    "    x = self.flatten(inputs)\n",
    "    x = self.dense1(x)\n",
    "    x = self.dense2(x)\n",
    "    return x\n",
    "\n",
    "\n",
    "model = MnistModel()"
   ]
  },
  {
   "cell_type": "markdown",
   "metadata": {},
   "source": [
    "### Model Compilation:\n",
    "\n",
    "- Both the Sequential and custom models are compiled with the loss function (categorical cross-entropy), optimizer (Adam), and evaluation metric (accuracy) using **model.compile**."
   ]
  },
  {
   "cell_type": "code",
   "execution_count": 7,
   "metadata": {},
   "outputs": [],
   "source": [
    "## Train the model\n",
    "batch_size = 128\n",
    "epochs = 15\n",
    "\n",
    "model.compile(loss=\"categorical_crossentropy\", optimizer=\"adam\", metrics=[\"accuracy\"])"
   ]
  },
  {
   "cell_type": "markdown",
   "metadata": {},
   "source": [
    "### Model Training:\n",
    "\n",
    "- The model is trained on the training data using **model.fit**.\n",
    "- Training is performed for 15 epochs with a batch size of 128.\n",
    "- A portion of the training data (10%) is used for validation."
   ]
  },
  {
   "cell_type": "code",
   "execution_count": 8,
   "metadata": {},
   "outputs": [
    {
     "name": "stdout",
     "output_type": "stream",
     "text": [
      "Epoch 1/15\n",
      "422/422 [==============================] - 2s 3ms/step - loss: 0.3312 - accuracy: 0.9073 - val_loss: 0.1486 - val_accuracy: 0.9595\n",
      "Epoch 2/15\n",
      "422/422 [==============================] - 1s 2ms/step - loss: 0.1429 - accuracy: 0.9594 - val_loss: 0.1094 - val_accuracy: 0.9683\n",
      "Epoch 3/15\n",
      "422/422 [==============================] - 1s 2ms/step - loss: 0.0971 - accuracy: 0.9723 - val_loss: 0.0888 - val_accuracy: 0.9732\n",
      "Epoch 4/15\n",
      "422/422 [==============================] - 1s 2ms/step - loss: 0.0720 - accuracy: 0.9792 - val_loss: 0.0774 - val_accuracy: 0.9780\n",
      "Epoch 5/15\n",
      "422/422 [==============================] - 1s 2ms/step - loss: 0.0561 - accuracy: 0.9838 - val_loss: 0.0702 - val_accuracy: 0.9795\n",
      "Epoch 6/15\n",
      "422/422 [==============================] - 1s 2ms/step - loss: 0.0437 - accuracy: 0.9876 - val_loss: 0.0788 - val_accuracy: 0.9773\n",
      "Epoch 7/15\n",
      "422/422 [==============================] - 1s 2ms/step - loss: 0.0357 - accuracy: 0.9901 - val_loss: 0.0725 - val_accuracy: 0.9795\n",
      "Epoch 8/15\n",
      "422/422 [==============================] - 1s 3ms/step - loss: 0.0272 - accuracy: 0.9929 - val_loss: 0.0731 - val_accuracy: 0.9793\n",
      "Epoch 9/15\n",
      "422/422 [==============================] - 1s 2ms/step - loss: 0.0215 - accuracy: 0.9950 - val_loss: 0.0639 - val_accuracy: 0.9827\n",
      "Epoch 10/15\n",
      "422/422 [==============================] - 1s 2ms/step - loss: 0.0171 - accuracy: 0.9961 - val_loss: 0.0693 - val_accuracy: 0.9813\n",
      "Epoch 11/15\n",
      "422/422 [==============================] - 1s 3ms/step - loss: 0.0136 - accuracy: 0.9970 - val_loss: 0.0672 - val_accuracy: 0.9797\n",
      "Epoch 12/15\n",
      "422/422 [==============================] - 1s 3ms/step - loss: 0.0107 - accuracy: 0.9980 - val_loss: 0.0718 - val_accuracy: 0.9802\n",
      "Epoch 13/15\n",
      "422/422 [==============================] - 1s 2ms/step - loss: 0.0109 - accuracy: 0.9977 - val_loss: 0.0720 - val_accuracy: 0.9822\n",
      "Epoch 14/15\n",
      "422/422 [==============================] - 1s 3ms/step - loss: 0.0079 - accuracy: 0.9986 - val_loss: 0.0680 - val_accuracy: 0.9835\n",
      "Epoch 15/15\n",
      "422/422 [==============================] - 1s 3ms/step - loss: 0.0068 - accuracy: 0.9988 - val_loss: 0.0783 - val_accuracy: 0.9800\n"
     ]
    }
   ],
   "source": [
    "history = model.fit(x_train, y_train, batch_size=batch_size, epochs=epochs, validation_split=0.1)"
   ]
  },
  {
   "cell_type": "markdown",
   "metadata": {},
   "source": [
    "### Model Evaluation:\n",
    "\n",
    "- The model is evaluated on the testing data, and the test loss and accuracy are printed."
   ]
  },
  {
   "cell_type": "code",
   "execution_count": 9,
   "metadata": {},
   "outputs": [
    {
     "name": "stdout",
     "output_type": "stream",
     "text": [
      "Test loss: 0.06888699531555176\n",
      "Test accuracy: 0.9799000024795532\n"
     ]
    }
   ],
   "source": [
    "# Evaluate model\n",
    "score = model.evaluate(x_test, y_test, verbose=0)\n",
    "print(\"Test loss:\", score[0])\n",
    "print(\"Test accuracy:\", score[1])"
   ]
  },
  {
   "cell_type": "markdown",
   "metadata": {},
   "source": [
    "### Visualizing Model Predictions:\n",
    "\n",
    "- The code selects one image from the testing data and displays it.\n",
    "- The actual label and the predicted label are printed on the image."
   ]
  },
  {
   "cell_type": "code",
   "execution_count": 10,
   "metadata": {},
   "outputs": [
    {
     "name": "stdout",
     "output_type": "stream",
     "text": [
      "1/1 [==============================] - 0s 86ms/step\n"
     ]
    },
    {
     "data": {
      "image/png": "[encoded data removed]",
      "text/plain": [
       "<Figure size 640x480 with 1 Axes>"
      ]
     },
     "metadata": {},
     "output_type": "display_data"
    }
   ],
   "source": [
    "## visualize outputs\n",
    "# Image index, you can pick any number between 0 and 9,999\n",
    "img_index = 10\n",
    "img = x_test[img_index]\n",
    "img = np.expand_dims(img, axis=0)\n",
    "\n",
    "# y_test contains the lables in one hot encoded format\n",
    "label_index = np.argmax(y_test[img_index])\n",
    "prediction = np.argmax(model.predict(img)[0])\n",
    "\n",
    "# Show one of the images from the training dataset\n",
    "plt.title(\"Actual Label = %d | Prediction = %d\"%(label_index, prediction))\n",
    "plt.imshow(x_test[img_index])\n",
    "plt.show()"
   ]
  }
 ],
 "metadata": {
  "kernelspec": {
   "display_name": "Python 3",
   "language": "python",
   "name": "python3"
  },
  "language_info": {
   "codemirror_mode": {
    "name": "ipython",
    "version": 3
   },
   "file_extension": ".py",
   "mimetype": "text/x-python",
   "name": "python",
   "nbconvert_exporter": "python",
   "pygments_lexer": "ipython3",
   "version": "3.11.4"
  }
 },
 "nbformat": 4,
 "nbformat_minor": 2
}
