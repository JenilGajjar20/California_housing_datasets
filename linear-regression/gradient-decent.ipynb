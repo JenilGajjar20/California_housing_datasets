{
 "cells": [
  {
   "cell_type": "markdown",
   "metadata": {},
   "source": [
    "# Linear Regression using Gradient Decent Algorithm"
   ]
  },
  {
   "cell_type": "markdown",
   "metadata": {},
   "source": [
    "### Importing Libraries\n",
    "\n",
    "- Import NumPy for numerical operations.\n",
    "- Import the California housing dataset and metrics from scikit-learn.\n",
    "- Import the **StandardScaler** class for feature scaling."
   ]
  },
  {
   "cell_type": "code",
   "execution_count": 1,
   "metadata": {},
   "outputs": [],
   "source": [
    "import numpy as np\n",
    "from sklearn import datasets, metrics\n",
    "from sklearn.preprocessing import StandardScaler"
   ]
  },
  {
   "cell_type": "markdown",
   "metadata": {},
   "source": [
    "### Loading the California Housing Dataset\n",
    "\n",
    "- Load the California housing dataset. **X** contains the feature data, and **y** contains the target values."
   ]
  },
  {
   "cell_type": "code",
   "execution_count": 2,
   "metadata": {},
   "outputs": [],
   "source": [
    "X, y = datasets.fetch_california_housing(return_X_y=True)"
   ]
  },
  {
   "cell_type": "markdown",
   "metadata": {},
   "source": [
    "### Preparing Training Data\n",
    "\n",
    "- Slice the first 16000 rows of the feature data for training(**X_train_temp**)\n",
    "- Create a new array **X_train** with an additional column (bias term) filled with ones, and then copy the feature data.\n",
    "- This prepares the training data with an extra column for the bias term."
   ]
  },
  {
   "cell_type": "code",
   "execution_count": 3,
   "metadata": {},
   "outputs": [
    {
     "name": "stdout",
     "output_type": "stream",
     "text": [
      "Type of X_train:  <class 'numpy.ndarray'> Shape of X_train:  (16000, 9)\n"
     ]
    }
   ],
   "source": [
    "X_train_temp1 = X[0:16000, :]\n",
    "X_train = np.zeros((X_train_temp1.shape[0], X_train_temp1.shape[1] + 1))\n",
    "X_train[:, 0] = np.ones((X_train_temp1.shape[0]))\n",
    "X_train[:, 1:] = X_train_temp1\n",
    "print(\"Type of X_train: \", type(X_train), \"Shape of X_train: \", X_train.shape)"
   ]
  },
  {
   "cell_type": "markdown",
   "metadata": {},
   "source": [
    "### Preparing Testing Data\n",
    "\n",
    "- Slice the remaining data (from row 16,000 to 20,604) for testing (**X_test_temp1**).\n",
    "- Create a new array **X_test** with an additional column (bias term) filled with ones, and then copy the feature data."
   ]
  },
  {
   "cell_type": "code",
   "execution_count": 4,
   "metadata": {},
   "outputs": [
    {
     "name": "stdout",
     "output_type": "stream",
     "text": [
      "Type of X_test:  <class 'numpy.ndarray'> Shape of X_test:  (4604, 9)\n"
     ]
    }
   ],
   "source": [
    "X_test_temp1 = X[16000:20604, :]\n",
    "X_test = np.zeros((X_test_temp1.shape[0], X_test_temp1.shape[1] + 1))\n",
    "X_test[:, 0] = np.ones((X_test_temp1.shape[0]))\n",
    "X_test[:, 1:] = X_test_temp1\n",
    "print(\"Type of X_test: \", type(X_test), \"Shape of X_test: \", X_test.shape)"
   ]
  },
  {
   "cell_type": "markdown",
   "metadata": {},
   "source": [
    "### Setting Training and Testing Target Data\n",
    "\n",
    "- Slice the target values for training and testing datasets."
   ]
  },
  {
   "cell_type": "code",
   "execution_count": 5,
   "metadata": {},
   "outputs": [],
   "source": [
    "y_train = y[0:16000]\n",
    "y_test = y[16000:20604]"
   ]
  },
  {
   "cell_type": "markdown",
   "metadata": {},
   "source": [
    "### Feature Scaling\n",
    "\n",
    "- Create a **StandardScaler** object (**scalar**) and fit it to the training feature data (excluding the bias term).\n",
    "- Standardize both the training and testing feature data."
   ]
  },
  {
   "cell_type": "code",
   "execution_count": 6,
   "metadata": {},
   "outputs": [],
   "source": [
    "scalar = StandardScaler()\n",
    "scalar.fit(X_train[:, 1:])\n",
    "\n",
    "X_train[:, 1:] = scalar.transform(X_train[:, 1:])\n",
    "X_test[:, 1:] = scalar.transform(X_test[:, 1:])"
   ]
  },
  {
   "cell_type": "markdown",
   "metadata": {},
   "source": [
    "### Initializing Theta (Model Parameters)\n",
    "\n",
    "- Initialize the model parameters (theta) with random values. The shape of **theta** matches the number of features in the training data."
   ]
  },
  {
   "cell_type": "code",
   "execution_count": 7,
   "metadata": {},
   "outputs": [
    {
     "name": "stdout",
     "output_type": "stream",
     "text": [
      "Type of theta:  <class 'numpy.ndarray'> Shape of theta:  (9,)\n"
     ]
    }
   ],
   "source": [
    "theta = np.random.uniform(0, 1, size = (X_train.shape[1]))\n",
    "print(\"Type of theta: \", type(theta), \"Shape of theta: \", theta.shape)"
   ]
  },
  {
   "cell_type": "markdown",
   "metadata": {},
   "source": [
    "### Gradient Descent\n",
    "\n",
    "- Define the number of iterations, learning rate (**alpha**), and get the number of data points (**m**) and features (**n**) from the training data.\n",
    "- Perform gradient descent to update the model parameters (**theta**) over a specified number of iterations.\n",
    "\n",
    "### Model Training with Gradient Descent\n",
    "\n",
    "- Inside a loop for **n_iterations**, the code computes the predictions (**y_pred**) using the current **theta**.\n",
    "- It calculates the error (**error**) as the difference between predictions and actual target values.\n",
    "- Then, for each feature, it computes the update for the corresponding parameter and updates the parameters.\n",
    "\n",
    "### Model Prediction and Evaluation\n",
    "\n",
    "- Use the trained model (represented by **theta**) to make predictions on the testing data.\n",
    "- Print the Mean Absolute Error (MAE) and Mean Squared Error (MSE) as evaluation metrics for the regression model."
   ]
  },
  {
   "cell_type": "code",
   "execution_count": 8,
   "metadata": {},
   "outputs": [
    {
     "name": "stdout",
     "output_type": "stream",
     "text": [
      "Shape of theta:  (9,)\n",
      "MAE:  0.592880052130006\n",
      "MSE:  0.6641376097739029\n"
     ]
    }
   ],
   "source": [
    "n_iterations = 1000\n",
    "alpha = 0.01\n",
    "m = X_train.shape[0]\n",
    "n = X_train.shape[1]\n",
    "\n",
    "for i in range(n_iterations):\n",
    "    y_pred = np.dot(X_train, theta)\n",
    "    error = y_pred - y_train\n",
    "    update = np.zeros(X_train.shape[1])\n",
    "    for j in range(n):\n",
    "        update[j] = np.sum(error * (X_train.T)[j])\n",
    "    theta = theta - (1/m)*(alpha)*update\n",
    "    \n",
    "print(\"Shape of theta: \", theta.shape)\n",
    "\n",
    "predictions = np.dot(X_test, theta)\n",
    "\n",
    "print(\"MAE: \", metrics.mean_absolute_error(y_true = y_test, y_pred = predictions))\n",
    "print(\"MSE: \", metrics.mean_squared_error(y_true = y_test, y_pred = predictions))"
   ]
  }
 ],
 "metadata": {
  "kernelspec": {
   "display_name": "Python 3",
   "language": "python",
   "name": "python3"
  },
  "language_info": {
   "codemirror_mode": {
    "name": "ipython",
    "version": 3
   },
   "file_extension": ".py",
   "mimetype": "text/x-python",
   "name": "python",
   "nbconvert_exporter": "python",
   "pygments_lexer": "ipython3",
   "version": "3.11.4"
  },
  "orig_nbformat": 4
 },
 "nbformat": 4,
 "nbformat_minor": 2
}
