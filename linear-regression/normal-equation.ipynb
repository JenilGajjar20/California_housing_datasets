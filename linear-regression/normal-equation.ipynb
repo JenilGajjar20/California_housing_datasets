{
 "cells": [
  {
   "cell_type": "markdown",
   "metadata": {},
   "source": [
    "# Linear Regression using Normal Equation"
   ]
  },
  {
   "cell_type": "markdown",
   "metadata": {},
   "source": [
    "### Importing Libraries\n",
    "\n",
    "- Import NumPy for numerical operations.\n",
    "- Import the California housing dataset and metrics from scikit-learn.\n",
    "- Import functions related to linear algebra, such as matrix inversion and pseudo-inverse (**inv**, **pinv**), and **LinAlgError** for handling linear algebra errors."
   ]
  },
  {
   "cell_type": "code",
   "execution_count": 3,
   "metadata": {},
   "outputs": [],
   "source": [
    "import numpy as np\n",
    "from sklearn import datasets, metrics\n",
    "from numpy.linalg import inv, pinv, LinAlgError"
   ]
  },
  {
   "cell_type": "markdown",
   "metadata": {},
   "source": [
    "### Loading the California Housing Dataset\n",
    "\n",
    "- Load the California housing dataset. **X** contains the feature data, and **y** contains the target values."
   ]
  },
  {
   "cell_type": "code",
   "execution_count": 4,
   "metadata": {},
   "outputs": [],
   "source": [
    "X, y = datasets.fetch_california_housing(return_X_y=True)"
   ]
  },
  {
   "cell_type": "markdown",
   "metadata": {},
   "source": [
    "### Preparing Training Data\n",
    "\n",
    "- Slice the first 16,000 rows of the feature data for training (**X_train_temp1**).\n",
    "- Create a new array **X_train** with an additional column (bias term) filled with ones, and then copy the feature data.\n",
    "- This prepares the training data with an extra column for the bias term."
   ]
  },
  {
   "cell_type": "code",
   "execution_count": 5,
   "metadata": {},
   "outputs": [
    {
     "name": "stdout",
     "output_type": "stream",
     "text": [
      "Type of X_train:  <class 'numpy.ndarray'> Shape of X_train:  (16000, 9)\n"
     ]
    }
   ],
   "source": [
    "X_train_temp1 = X[:16000]\n",
    "X_train = np.zeros((X_train_temp1.shape[0], X_train_temp1.shape[1] + 1))\n",
    "X_train[:, 0] = np.ones((X_train_temp1.shape[0]))\n",
    "X_train[:, 1:] = X_train_temp1\n",
    "print(\"Type of X_train: \", type(X_train), \"Shape of X_train: \", X_train.shape)"
   ]
  },
  {
   "cell_type": "markdown",
   "metadata": {},
   "source": [
    "### Preparing Testing Data\n",
    "\n",
    "- Slice the remaining data (from row 16,000 to 20,604) for testing (**X_test_temp1**).\n",
    "- Create a new array **X_test** with an additional column (bias term) filled with ones, and then copy the feature data."
   ]
  },
  {
   "cell_type": "code",
   "execution_count": null,
   "metadata": {},
   "outputs": [],
   "source": [
    "X_test_temp1 = X[16000:20604]\n",
    "X_test = np.zeros((X_test_temp1.shape[0], X_test_temp1.shape[1] + 1))\n",
    "X_test[:, 0] = np.ones((X_test_temp1.shape[0]))\n",
    "X_test[:, 1:] = X_test_temp1\n",
    "print(\"Type of X_Test:\", type(X_test), \"Shape of X_test: \", X_test.shape)"
   ]
  },
  {
   "cell_type": "markdown",
   "metadata": {},
   "source": [
    "### Setting Training and Testing Target Data\n",
    "\n",
    "- Slice the target values for training and testing datasets."
   ]
  },
  {
   "cell_type": "code",
   "execution_count": 6,
   "metadata": {},
   "outputs": [
    {
     "name": "stdout",
     "output_type": "stream",
     "text": [
      "Type of X_Test: <class 'numpy.ndarray'> Shape of X_test:  (4604, 9)\n"
     ]
    }
   ],
   "source": [
    "y_train = y[0:16000]\n",
    "y_test = y[16000:20604]"
   ]
  },
  {
   "cell_type": "markdown",
   "metadata": {},
   "source": [
    "### Initializing Theta (Model Parameters)\n",
    "\n",
    "- Initialize the model parameters (theta) with zeros. The shape of **theta** matches the number of features in the training data."
   ]
  },
  {
   "cell_type": "code",
   "execution_count": 7,
   "metadata": {},
   "outputs": [
    {
     "name": "stdout",
     "output_type": "stream",
     "text": [
      "X_train:  (16000, 9)\n",
      "y_train:  (16000,)\n",
      "X_test:  (4604, 9)\n",
      "y_test:  (4604,)\n",
      "theta:  (9,)\n",
      "predictions:  (4604,)\n",
      "MAE:  0.5204256527684706\n",
      "MSE:  0.49888497645004576\n"
     ]
    }
   ],
   "source": [
    "theta = np.zeros(X_train.shape[1])"
   ]
  },
  {
   "cell_type": "markdown",
   "metadata": {},
   "source": [
    "### Normal Equation (Closed-Form Solution)\n",
    "\n",
    "- The code uses the normal equation to calculate the optimal values of **theta** directly.\n",
    "- It first attempts to calculate the inverse of the product of the **transpose of X_train** and **X_train**. If this operation raises a **LinAlgError**, indicating that the matrix is not invertible, it falls back to using the pseudo-inverse (**pinv**) instead.\n",
    "- Then, it calculates **XTy**, which is the product of the **transpose of X_train** and **y_train**."
   ]
  },
  {
   "cell_type": "code",
   "execution_count": 8,
   "metadata": {},
   "outputs": [],
   "source": [
    "try:\n",
    "    XTXi = inv(np.dot(X_train.T, X_train))\n",
    "except LinAlgError:\n",
    "    XTXi = pinv(np.dot(X_train.T, X_train))\n",
    "\n",
    "XTy = np.dot(X_train.T, y_train)"
   ]
  },
  {
   "cell_type": "markdown",
   "metadata": {},
   "source": [
    "### Calculating Theta\n",
    "\n",
    "- Calculate the model parameters (**theta**) by multiplying the inverse (or pseudo-inverse) of **XTX** with **XTy**.\n",
    "\n",
    "### Printing Data Shapes and Predictions\n",
    "\n",
    "- The code prints the shapes of the training and testing data, the shape of theta, and the shape of the predictions."
   ]
  },
  {
   "cell_type": "code",
   "execution_count": null,
   "metadata": {},
   "outputs": [],
   "source": [
    "theta = np.dot(XTXi, XTy)\n",
    "\n",
    "print(\"X_train: \", X_train.shape)\n",
    "print(\"y_train: \", y_train.shape)\n",
    "\n",
    "print(\"X_test: \", X_test.shape)\n",
    "print(\"y_test: \", y_test.shape)\n",
    "\n",
    "print(\"theta: \", theta.shape)"
   ]
  },
  {
   "cell_type": "markdown",
   "metadata": {},
   "source": [
    "### Model Prediction and Evaluation\n",
    "\n",
    "- Use the calculated **theta** to make predictions on the testing data using matrix multiplication.\n",
    "- Print the Mean Absolute Error (MAE) and Mean Squared Error (MSE) as evaluation metrics for the regression model."
   ]
  },
  {
   "cell_type": "code",
   "execution_count": null,
   "metadata": {},
   "outputs": [],
   "source": [
    "predictions = np.dot(theta, X_test.T)\n",
    "print(\"predictions: \", predictions.shape)\n",
    "\n",
    "print(\"MAE: \", metrics.mean_absolute_error(y_true = y_test, y_pred = predictions))\n",
    "print(\"MSE: \", metrics.mean_squared_error(y_true = y_test, y_pred = predictions))"
   ]
  }
 ],
 "metadata": {
  "kernelspec": {
   "display_name": "Python 3",
   "language": "python",
   "name": "python3"
  },
  "language_info": {
   "codemirror_mode": {
    "name": "ipython",
    "version": 3
   },
   "file_extension": ".py",
   "mimetype": "text/x-python",
   "name": "python",
   "nbconvert_exporter": "python",
   "pygments_lexer": "ipython3",
   "version": "3.11.4"
  },
  "orig_nbformat": 4
 },
 "nbformat": 4,
 "nbformat_minor": 2
}
