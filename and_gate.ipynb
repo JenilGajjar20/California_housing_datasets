{
 "cells": [
  {
   "cell_type": "code",
   "execution_count": 15,
   "metadata": {},
   "outputs": [],
   "source": [
    "import numpy as np"
   ]
  },
  {
   "cell_type": "code",
   "execution_count": 16,
   "metadata": {},
   "outputs": [
    {
     "name": "stdout",
     "output_type": "stream",
     "text": [
      "[0, 0, 0, 1]\n"
     ]
    }
   ],
   "source": [
    "X_train = np.array([[0, 0], [0, 1], [1, 0], [1, 1]], dtype = int)\n",
    "y_train = np.array([0, 0, 0, 1], dtype = int)\n",
    "\n",
    "n_samples = X_train.shape[0]\n",
    "n_features = X_train.shape[1]\n",
    "\n",
    "w = np.random.uniform(0, 1, size=2)\n",
    "b = np.random.uniform(0, 1, size=1)\n",
    "\n",
    "n_epochs = 100\n",
    "lr = 0.01\n",
    "\n",
    "for _ in range(n_epochs):\n",
    "    for i in range(n_samples):\n",
    "        net = np.dot(X_train[i, :], w) + b\n",
    "        a = 1 if net >= 0 else 0\n",
    "        # if net >= 0:\n",
    "        #     a = 1\n",
    "        # else:\n",
    "        #     a = 0\n",
    "\n",
    "        e = y_train[i] - a\n",
    "\n",
    "        w = w + lr*e*X_train[i, :]\n",
    "        b = b + lr*e\n",
    "\n",
    "net = np.dot(X_train, w) + b\n",
    "pred = list(map(int, net >= 0))\n",
    "print(pred)"
   ]
  }
 ],
 "metadata": {
  "kernelspec": {
   "display_name": "Python 3",
   "language": "python",
   "name": "python3"
  },
  "language_info": {
   "codemirror_mode": {
    "name": "ipython",
    "version": 3
   },
   "file_extension": ".py",
   "mimetype": "text/x-python",
   "name": "python",
   "nbconvert_exporter": "python",
   "pygments_lexer": "ipython3",
   "version": "3.11.4"
  }
 },
 "nbformat": 4,
 "nbformat_minor": 2
}
